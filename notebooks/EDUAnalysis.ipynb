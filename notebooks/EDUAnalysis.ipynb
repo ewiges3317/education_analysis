{
 "cells": [
  {
   "cell_type": "code",
   "execution_count": 2,
   "id": "26c4f701-545a-4cfe-b3a9-68aca0889861",
   "metadata": {},
   "outputs": [
    {
     "ename": "SyntaxError",
     "evalue": "invalid character '–' (U+2013) (1735512644.py, line 9)",
     "output_type": "error",
     "traceback": [
      "  \u001b[36mCell\u001b[39m\u001b[36m \u001b[39m\u001b[32mIn[2]\u001b[39m\u001b[32m, line 9\u001b[39m\n\u001b[31m    \u001b[39m\u001b[31m1. **QC (terminal)** – schema, delimiters, nulls, duplicates, ranges → `logs/qc_report.txt`\u001b[39m\n                         ^\n\u001b[31mSyntaxError\u001b[39m\u001b[31m:\u001b[39m invalid character '–' (U+2013)\n"
     ]
    }
   ],
   "source": [
    "# Attendance ↔ Achievement Cleaning & Analysis\n",
    "\n",
    "**Author:** Jared  \n",
    "**Repo/Folder:** `edu_analysis_local`  \n",
    "**Goal:** Correlate attendance (absences) with achievement (G3) using cleaned v2 datasets.  \n",
    "**Data:** UCI/Kaggle Student Performance (`student-mat`, `student-por`)\n",
    "\n",
    "## Pipeline (what happened before this notebook)\n",
    "1. **QC (terminal)** – schema, delimiters, nulls, duplicates, ranges → `logs/qc_report.txt`  \n",
    "2. **Type enforcement (terminal)** – wrote `data_clean/*_clean_v1.csv`  \n",
    "3. **Outlier scan (terminal)** – wrote `logs/outliers_report.txt` + `proposed_caps.json`  \n",
    "4. **Apply caps (terminal)** – capped *absences* only → `data_clean/*_clean_v2.csv` + `logs/caps_summary.txt`\n",
    "\n",
    "> This notebook documents those steps for stakeholders and performs analysis (correlations, plots, tiers, recommendations).\n"
   ]
  },
  {
   "cell_type": "code",
   "execution_count": 5,
   "id": "5b68563c-0c04-4d23-bbc3-5f5d7f38b5bc",
   "metadata": {},
   "outputs": [
    {
     "name": "stdout",
     "output_type": "stream",
     "text": [
      "ROOT: C:\\Users\\jared\\OneDrive\\Documents\\edu_analysis_local\n",
      "DATA_CLEAN: C:\\Users\\jared\\OneDrive\\Documents\\edu_analysis_local\\data_clean\n",
      "LOGS: C:\\Users\\jared\\OneDrive\\Documents\\edu_analysis_local\\logs\n"
     ]
    }
   ],
   "source": [
    "import os, sys, json\n",
    "import pandas as pd\n",
    "import numpy as np\n",
    "import matplotlib.pyplot as plt\n",
    "\n",
    "# Resolve project root from notebook location\n",
    "NB_DIR = os.path.abspath(os.getcwd())\n",
    "ROOT = os.path.abspath(os.path.join(NB_DIR, \"..\"))\n",
    "DATA_RAW = os.path.join(ROOT, \"data_raw\")\n",
    "DATA_CLEAN = os.path.join(ROOT, \"data_clean\")\n",
    "LOGS = os.path.join(ROOT, \"logs\")\n",
    "\n",
    "print(\"ROOT:\", ROOT)\n",
    "print(\"DATA_CLEAN:\", DATA_CLEAN)\n",
    "print(\"LOGS:\", LOGS)\n"
   ]
  },
  {
   "cell_type": "code",
   "execution_count": 6,
   "id": "0fc1f0b9-6364-43e6-8b4b-4eb93f757de8",
   "metadata": {},
   "outputs": [
    {
     "ename": "SyntaxError",
     "evalue": "invalid syntax (2218714856.py, line 2)",
     "output_type": "error",
     "traceback": [
      "  \u001b[36mCell\u001b[39m\u001b[36m \u001b[39m\u001b[32mIn[6]\u001b[39m\u001b[32m, line 2\u001b[39m\n\u001b[31m    \u001b[39m\u001b[31m- Python, pandas, numpy, matplotlib versions (for reproducibility)\u001b[39m\n                                        ^\n\u001b[31mSyntaxError\u001b[39m\u001b[31m:\u001b[39m invalid syntax\n"
     ]
    }
   ],
   "source": [
    "### Environment Snapshot\n",
    "- Python, pandas, numpy, matplotlib versions (for reproducibility)\n"
   ]
  },
  {
   "cell_type": "code",
   "execution_count": 7,
   "id": "a636878d-9e87-4d20-ad84-de83081550d1",
   "metadata": {},
   "outputs": [
    {
     "name": "stdout",
     "output_type": "stream",
     "text": [
      "Python: 3.13.7\n",
      "pandas: 2.3.2\n",
      "numpy: 2.3.3\n",
      "matplotlib: 3.10.6\n"
     ]
    }
   ],
   "source": [
    "import platform\n",
    "print(\"Python:\", platform.python_version())\n",
    "print(\"pandas:\", pd.__version__)\n",
    "print(\"numpy:\", np.__version__)\n",
    "print(\"matplotlib:\", plt.matplotlib.__version__)\n"
   ]
  },
  {
   "cell_type": "code",
   "execution_count": 8,
   "id": "3a16d0cb-f1f4-4560-a76f-eceb3f6c1675",
   "metadata": {},
   "outputs": [
    {
     "ename": "SyntaxError",
     "evalue": "invalid character '’' (U+2019) (708197324.py, line 2)",
     "output_type": "error",
     "traceback": [
      "  \u001b[36mCell\u001b[39m\u001b[36m \u001b[39m\u001b[32mIn[8]\u001b[39m\u001b[32m, line 2\u001b[39m\n\u001b[31m    \u001b[39m\u001b[31mWe’ll display the key logs produced in terminal for a complete paper trail.\u001b[39m\n      ^\n\u001b[31mSyntaxError\u001b[39m\u001b[31m:\u001b[39m invalid character '’' (U+2019)\n"
     ]
    }
   ],
   "source": [
    "### Terminal Artifacts (Logs)\n",
    "We’ll display the key logs produced in terminal for a complete paper trail.\n"
   ]
  }
 ],
 "metadata": {
  "kernelspec": {
   "display_name": "Python 3 (ipykernel)",
   "language": "python",
   "name": "python3"
  },
  "language_info": {
   "codemirror_mode": {
    "name": "ipython",
    "version": 3
   },
   "file_extension": ".py",
   "mimetype": "text/x-python",
   "name": "python",
   "nbconvert_exporter": "python",
   "pygments_lexer": "ipython3",
   "version": "3.13.7"
  }
 },
 "nbformat": 4,
 "nbformat_minor": 5
}
